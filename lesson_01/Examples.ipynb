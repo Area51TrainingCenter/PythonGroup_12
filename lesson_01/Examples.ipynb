{
 "cells": [
  {
   "cell_type": "markdown",
   "metadata": {},
   "source": [
    "# Ejemplos clase 01 #"
   ]
  },
  {
   "cell_type": "markdown",
   "metadata": {},
   "source": [
    "## 1. Bisiesto ## "
   ]
  },
  {
   "cell_type": "markdown",
   "metadata": {},
   "source": [
    "Dado un año (entero positivo) determina si es bisiesto.\n",
    "> Un año es bisiesto si es divisible entre 4, excepto aquellos divisibles entre 100 pero no entre 400.\n",
    "\n",
    "[Más sobre años bisiestos](https://es.wikipedia.org/wiki/A%C3%B1o_bisiesto)"
   ]
  },
  {
   "cell_type": "markdown",
   "metadata": {},
   "source": [
    "### Solución ###\n",
    "\n",
    "Con un breve razonamiento podemos definir niveles de divisibilidad y codificarlas como condiciones."
   ]
  },
  {
   "cell_type": "code",
   "execution_count": null,
   "metadata": {},
   "outputs": [],
   "source": [
    "year = int(input())\n",
    "\n",
    "if year % 4 == 0:\n",
    "    if year % 100 == 0:\n",
    "        if year % 400 == 0:\n",
    "            print(\"Bisiesto\")\n",
    "        else:\n",
    "            print(\"No bisiesto\")\n",
    "    else:\n",
    "        print(\"Bisiesto\")\n",
    "else:\n",
    "    print(\"No bisiesto\")"
   ]
  },
  {
   "cell_type": "markdown",
   "metadata": {},
   "source": [
    "Una versión más condensada."
   ]
  },
  {
   "cell_type": "code",
   "execution_count": null,
   "metadata": {},
   "outputs": [],
   "source": [
    "year = int(input())\n",
    "\n",
    "if year % 4 != 0 or (year % 100 == 0 and year % 400 != 0):\n",
    "    print(\"No bisiesto\")\n",
    "else:\n",
    "    print(\"Bisiesto\")  # Intenta escribirlo la condición al revés, cuando es Bisiesto"
   ]
  },
  {
   "cell_type": "markdown",
   "metadata": {},
   "source": [
    "## 2. Números Raros ##"
   ]
  },
  {
   "cell_type": "markdown",
   "metadata": {},
   "source": [
    "Dado un número entero positivo, realizar las siguientes acciones:\n",
    "\n",
    "* Si es impar, imprimir `Raro`\n",
    "* Si es par y está en el rango inclusivo de 2 a 5, imprimir `No es Raro`\n",
    "* Si es par y está en el rango inclusivo de 6 a 20, imprimir `Raro`  \n",
    "* Si es par y es mayor a 20, imprimir `No es Raro`\n"
   ]
  },
  {
   "cell_type": "markdown",
   "metadata": {},
   "source": [
    "### Solución ###"
   ]
  },
  {
   "cell_type": "markdown",
   "metadata": {},
   "source": [
    "Basta con pasar las instrucciones a código."
   ]
  },
  {
   "cell_type": "code",
   "execution_count": null,
   "metadata": {},
   "outputs": [],
   "source": [
    "n = int(input())  # leemos el número y casteamos a entero\n",
    "\n",
    "if n % 2 != 0:\n",
    "    print('Raro')\n",
    "elif n % 2 == 0 and n >= 2 and n <= 5:\n",
    "    print('No es Raro')\n",
    "elif n % 2 == 0 and n >= 6 and n <= 20:\n",
    "    print('Raro')\n",
    "elif n % 2 == 0 and n > 20:\n",
    "    print('No es Raro')"
   ]
  },
  {
   "cell_type": "markdown",
   "metadata": {},
   "source": [
    "Optimizando un poco el código, en python podemos reemplazar `n >= 6 and n <= 20` por `6 <= n <= 20`. Además pensando un poco podemos concluir que el número es *Raro* cuando es impar o cuando es par en el rango inclusivo de 6 a 20, en otro caso *No es Raro*."
   ]
  },
  {
   "cell_type": "code",
   "execution_count": null,
   "metadata": {},
   "outputs": [],
   "source": [
    "n = int(input())\n",
    "\n",
    "if n % 2 != 0 or 6 <= n <= 20:\n",
    "    print('Raro')\n",
    "else:\n",
    "    print('No es Raro')"
   ]
  },
  {
   "cell_type": "markdown",
   "metadata": {},
   "source": [
    "## 3. Suma ##"
   ]
  },
  {
   "cell_type": "markdown",
   "metadata": {},
   "source": [
    "Lee un número entero positivo e imprime la suma de todos los números positivos que sean menor o igual a este."
   ]
  },
  {
   "cell_type": "markdown",
   "metadata": {},
   "source": [
    "### Solución ###"
   ]
  },
  {
   "cell_type": "markdown",
   "metadata": {},
   "source": [
    "Podemos usar también un bucle, y debemos acumular el valor de la suma en una variable, que debe ser incializada a cero antes de ingresar al bucle."
   ]
  },
  {
   "cell_type": "code",
   "execution_count": null,
   "metadata": {},
   "outputs": [],
   "source": [
    "num = int(input())\n",
    "\n",
    "sum_ = 0\n",
    "for i in range(1, num + 1):\n",
    "    sum_ += i  # reemplaza a: sum_ = _sum + i\n",
    "print(sum_)"
   ]
  },
  {
   "cell_type": "markdown",
   "metadata": {},
   "source": [
    "Apoyándonos en las matemáticas podemos resolverlo con sólo una instrucción."
   ]
  },
  {
   "cell_type": "code",
   "execution_count": null,
   "metadata": {},
   "outputs": [],
   "source": [
    "num = int(input())\n",
    "\n",
    "print(num * (num + 1) // 2)"
   ]
  },
  {
   "cell_type": "markdown",
   "metadata": {},
   "source": [
    "## 4. Suma Impares ##"
   ]
  },
  {
   "cell_type": "markdown",
   "metadata": {},
   "source": [
    "Lee un número entero e imprime la suma de todos los números positivos impares que sean menor o igual a este."
   ]
  },
  {
   "cell_type": "markdown",
   "metadata": {},
   "source": [
    "### Solución ###\n",
    "\n",
    "Basta con recorrer todos los impares hasta el número dado."
   ]
  },
  {
   "cell_type": "code",
   "execution_count": null,
   "metadata": {},
   "outputs": [],
   "source": [
    "num = int(input())\n",
    "\n",
    "sum_ = 0\n",
    "for i in range(1, num + 1, 2):  # De 1 a n con paso 2.\n",
    "    sum_ += i  # reemplaza a: sum_ = _sum + i\n",
    "print(sum_)"
   ]
  },
  {
   "cell_type": "markdown",
   "metadata": {},
   "source": [
    "Nuevamente apoyándonos en las matemáticas podemos encontrar una solución más eficiente."
   ]
  },
  {
   "cell_type": "code",
   "execution_count": null,
   "metadata": {},
   "outputs": [],
   "source": [
    "num = int(input())\n",
    "\n",
    "n = (num + 1) // 2  # El enésimo impar que es num, por ejemplo 5 es el tercer impar.\n",
    "print(n ** 2)"
   ]
  },
  {
   "cell_type": "markdown",
   "metadata": {},
   "source": [
    "## 5. Suma dígitos ##"
   ]
  },
  {
   "cell_type": "markdown",
   "metadata": {},
   "source": [
    "Lee un número entero positivo e imprime la suma de sus dígitos."
   ]
  },
  {
   "cell_type": "markdown",
   "metadata": {},
   "source": [
    "### Solución ###"
   ]
  },
  {
   "cell_type": "markdown",
   "metadata": {},
   "source": [
    "Podemos aprovechar el operador módulo para obetener el último dígito del número y el operador división entera para quitarle el último dígito al número."
   ]
  },
  {
   "cell_type": "code",
   "execution_count": null,
   "metadata": {},
   "outputs": [],
   "source": [
    "print(145 % 10)\n",
    "print(145 // 10)"
   ]
  },
  {
   "cell_type": "markdown",
   "metadata": {},
   "source": [
    "Usando estos dos operadores en un bucle podemos obtener todos los dígitos de un número y por tanto también su suma."
   ]
  },
  {
   "cell_type": "code",
   "execution_count": null,
   "metadata": {},
   "outputs": [],
   "source": [
    "n = int(input())\n",
    "\n",
    "sum_ = 0\n",
    "while n > 0:\n",
    "    sum_ += n % 10\n",
    "    n //= 10 # recuerda que reemplaza a n = n // 10\n",
    "print(sum_)"
   ]
  }
 ],
 "metadata": {
  "kernelspec": {
   "display_name": "Python 3",
   "language": "python",
   "name": "python3"
  },
  "language_info": {
   "codemirror_mode": {
    "name": "ipython",
    "version": 3
   },
   "file_extension": ".py",
   "mimetype": "text/x-python",
   "name": "python",
   "nbconvert_exporter": "python",
   "pygments_lexer": "ipython3",
   "version": "3.6.6"
  }
 },
 "nbformat": 4,
 "nbformat_minor": 2
}
